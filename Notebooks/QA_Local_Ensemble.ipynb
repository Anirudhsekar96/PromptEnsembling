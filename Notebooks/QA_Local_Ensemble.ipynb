{
 "cells": [
  {
   "cell_type": "code",
   "execution_count": 5,
   "metadata": {},
   "outputs": [],
   "source": [
    "from transformers import pipeline, set_seed, logging\n",
    "set_seed(42)\n",
    "logging.set_verbosity_error()"
   ]
  },
  {
   "cell_type": "code",
   "execution_count": 2,
   "metadata": {},
   "outputs": [],
   "source": [
    "# Setting up the underlying and primary models\n",
    "task = \"question-answering\"\n",
    "models = {'gpt2':           pipeline(task, model=\"openai-community/gpt2\"),\n",
    "          'roberta':     pipeline(task, model=\"deepset/roberta-base-squad2\"),\n",
    "          'tiny_bert':        pipeline(task, model=\"Intel/dynamic_tinybert\"),\n",
    "          'amzn_qanlu':    pipeline(task, model=\"AmazonScience/qanlu\"),\n",
    "          }\n",
    "\n",
    "primary_model = 'tiny_bert'\n"
   ]
  },
  {
   "cell_type": "code",
   "execution_count": 3,
   "metadata": {},
   "outputs": [
    {
     "data": {
      "text/plain": [
       "{'gpt2': {'score': 0.02567078173160553,\n",
       "  'start': 41,\n",
       "  'end': 95,\n",
       "  'answer': ' but Kansas outperformed them at overtime in SuperBowl'},\n",
       " 'roberta': {'score': 0.8439465761184692,\n",
       "  'start': 46,\n",
       "  'end': 52,\n",
       "  'answer': 'Kansas'},\n",
       " 'tiny_bert': {'score': 0.5538791418075562,\n",
       "  'start': 46,\n",
       "  'end': 52,\n",
       "  'answer': 'Kansas'},\n",
       " 'amzn_qanlu': {'score': 0.9204440116882324,\n",
       "  'start': 46,\n",
       "  'end': 52,\n",
       "  'answer': 'Kansas'}}"
      ]
     },
     "execution_count": 3,
     "metadata": {},
     "output_type": "execute_result"
    }
   ],
   "source": [
    "question = \"Who won the superbowl in 2024?\"\n",
    "context = \"The San Fransico 49ers took an early lead but Kansas outperformed them at overtime in SuperBowl 2024.\"\n",
    "prompt = {'context': context, 'question': question}\n",
    "\n",
    "text_generation_params = {'max_length':100, 'truncation':True}\n",
    "\n",
    "answers = dict()\n",
    "for model_name, model in models.items():\n",
    "    answer = model(prompt, **text_generation_params)\n",
    "    answer = answer #Keeping only the top response for now\n",
    "    answers[model_name] = answer\n",
    "answers"
   ]
  },
  {
   "cell_type": "code",
   "execution_count": 4,
   "metadata": {},
   "outputs": [
    {
     "data": {
      "text/plain": [
       "{'score': 0.47646719217300415, 'start': 46, 'end': 52, 'answer': 'Kansas'}"
      ]
     },
     "execution_count": 4,
     "metadata": {},
     "output_type": "execute_result"
    }
   ],
   "source": [
    "\n",
    "ensemble_prompt = {'context': context + '\\n' + str(answers.values()),\n",
    "                   'question': question\n",
    "                   }\n",
    "\n",
    "ensemble_params = {'max_length':None, 'truncation':True}\n",
    "answer = models[primary_model](ensemble_prompt, **ensemble_params)\n",
    "answer"
   ]
  }
 ],
 "metadata": {
  "kernelspec": {
   "display_name": "Python 3",
   "language": "python",
   "name": "python3"
  },
  "language_info": {
   "codemirror_mode": {
    "name": "ipython",
    "version": 3
   },
   "file_extension": ".py",
   "mimetype": "text/x-python",
   "name": "python",
   "nbconvert_exporter": "python",
   "pygments_lexer": "ipython3",
   "version": "3.11.8"
  }
 },
 "nbformat": 4,
 "nbformat_minor": 2
}
