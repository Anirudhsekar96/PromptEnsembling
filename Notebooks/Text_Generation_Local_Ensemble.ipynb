{
 "cells": [
  {
   "cell_type": "code",
   "execution_count": 7,
   "metadata": {},
   "outputs": [],
   "source": [
    "from transformers import pipeline, set_seed, logging\n",
    "set_seed(42)\n",
    "logging.set_verbosity_error()"
   ]
  },
  {
   "cell_type": "code",
   "execution_count": 2,
   "metadata": {},
   "outputs": [
    {
     "name": "stderr",
     "output_type": "stream",
     "text": [
      "Loading checkpoint shards: 100%|██████████| 2/2 [00:02<00:00,  1.04s/it]\n"
     ]
    }
   ],
   "source": [
    "# Setting up the underlying and primary models\n",
    "task = \"text-generation\"\n",
    "models = {'gpt2':           pipeline(task, model=\"openai-community/gpt2\"),\n",
    "          'tiny_llama':     pipeline(task, model=\"TinyLlama/TinyLlama-1.1B-Chat-v1.0\"),\n",
    "          'ms_phi2':        pipeline(task, model=\"microsoft/phi-2\"),\n",
    "          'distil_gpt2':    pipeline(task, model=\"distilbert/distilgpt2\"),\n",
    "          }\n",
    "\n",
    "primary_model = 'tiny_llama'\n"
   ]
  },
  {
   "cell_type": "code",
   "execution_count": 3,
   "metadata": {},
   "outputs": [
    {
     "data": {
      "text/plain": [
       "{'gpt2': \"\\xa0the word 'dagger-square' means 'hurt.' 'Dagger' is a very English word meaning 'jittery.' This word can be seen in a lot of people's everyday lives, such as the family. What makes this word great is there are so many different meanings.\\nBut how, with its origins, is it derived from 'dagger'\\nIt's also important to notice in this quote that one of the first words\",\n",
       " 'tiny_llama': ' that the first ever recorded use of the word \"computer\" was in a letter written by Ada Lovelace to Charles Babbage in 1843. She was the daughter of Lord Byron and the sister of Lord Byron\\'s wife, Lady Byron. Ada Lovelace was a mathematician and writer, and her work with Charles Babbage\\'s Analytical Engine led to the development of the first computer.',\n",
       " 'ms_phi2': \"__________.\\n\\nI hope you enjoyed learning about the different types of sentences. Keep practicing and soon you'll be a grammar expert!\\n\",\n",
       " 'distil_gpt2': \"???????? I never heard of it at the time??????\\nIt's such a weird place and I love the way these things work. These are my favorite places when I'm in the mood!\\nSo, my favourite one came out as the new new season season started, so I got the opportunity to play my own favourite games.\\nYou will still get to play just how you like it! :D To give you my favorite ones from the season you\"}"
      ]
     },
     "execution_count": 3,
     "metadata": {},
     "output_type": "execute_result"
    }
   ],
   "source": [
    "prompt = \"My favourite fun fact is \"\n",
    "text_generation_params = {'max_length':100, 'truncation':True}\n",
    "\n",
    "answers = dict()\n",
    "for model_name, model in models.items():\n",
    "    answer = model(prompt, **text_generation_params)\n",
    "    answer = answer[0]['generated_text'][len(prompt):] #Keeping only the top response for now\n",
    "    answers[model_name] = answer\n",
    "answers"
   ]
  },
  {
   "cell_type": "code",
   "execution_count": 4,
   "metadata": {},
   "outputs": [
    {
     "data": {
      "text/plain": [
       "'I asked multiple lanugage models for their favourite fun fact, the received answers were: gpt2: \\xa0the word \\'dagger-square\\' means \\'hurt.\\' \\'Dagger\\' is a very English word meaning \\'jittery.\\' This word can be seen in a lot of people\\'s everyday lives, such as the family. What makes this word great is there are so many different meanings.\\nBut how, with its origins, is it derived from \\'dagger\\'\\nIt\\'s also important to notice in this quote that one of the first words\\ntiny_llama:  that the first ever recorded use of the word \"computer\" was in a letter written by Ada Lovelace to Charles Babbage in 1843. She was the daughter of Lord Byron and the sister of Lord Byron\\'s wife, Lady Byron. Ada Lovelace was a mathematician and writer, and her work with Charles Babbage\\'s Analytical Engine led to the development of the first computer.\\nms_phi2: __________.\\n\\nI hope you enjoyed learning about the different types of sentences. Keep practicing and soon you\\'ll be a grammar expert!\\ndistil_gpt2: ???????? I never heard of it at the time??????\\nIt\\'s such a weird place and I love the way these things work. These are my favorite places when I\\'m in the mood!\\nSo, my favourite one came out as the new new season season started, so I got the opportunity to play my own favourite games.\\nYou will still get to play just how you like it! :D To give you my favorite ones from the season you\\n, my most favourite fun fact is 100% true.\\nI\\'m not sure if you\\'ve heard of it, but it\\'s a really cool place.\\nI\\'m not sure if you\\'ve heard of it, but it\\'s a really cool place.\\nI\\'m not sure if you\\'ve heard of it, but it\\'s a really cool place.\\nI\\'m not sure if you\\'ve heard of it, but it\\'s a really cool place.\\nI\\'m not sure if you\\'ve heard of it, but it\\'s a really cool place.\\nI\\'m not sure if you\\'ve heard of it, but it\\'s a really cool place.\\nI\\'m not sure if you\\'ve heard of it, but it\\'s a really cool place.\\nI\\'m not sure if you\\'ve heard of it, but it\\'s a really cool place.\\nI\\'m not sure if you\\'ve heard of it, but it\\'s a really cool place.\\nI\\'m not sure if you\\'ve heard of it, but it\\'s a really cool place.\\nI\\'m not sure if you\\'ve heard of it, but it\\'s a really cool place.\\nI\\'m not sure if you\\'ve heard of it, but it\\'s a really cool place.\\nI\\'m not sure if you\\'ve heard of it, but it\\'s a really cool place.\\nI\\'m not sure if you\\'ve heard of it, but it\\'s a really cool place.\\nI\\'m not sure if you\\'ve heard of it, but it\\'s a really cool place.\\nI\\'m not sure if you\\'ve heard of it, but it\\'s a really cool place.\\nI\\'m not sure if you\\'ve heard of it, but it\\'s a really cool place.\\nI\\'m not sure if you\\'ve heard of it, but it\\'s a really cool place.\\nI\\'m not sure if you\\'ve heard of it, but it\\'s a really cool place.\\nI\\'m not sure if you\\'ve heard of it, but it\\'s a really cool place.\\nI\\'m not sure if you\\'ve heard of it, but it\\'s a really cool place.\\nI\\'m not sure if you\\'ve heard of it, but it\\'s a really cool place.\\nI\\'m not sure if you\\'ve heard of it, but it\\'s a really cool place.\\nI\\'m not sure if you\\'ve heard of it, but it\\'s a really cool place.\\nI\\'m not sure if you\\'ve heard of it, but it\\'s a really cool place.\\nI\\'m not sure if you\\'ve heard of it, but it\\'s a really cool place.\\nI\\'m not sure if you\\'ve heard of it, but it\\'s a really cool place.\\nI\\'m not sure if you\\'ve heard of it, but it\\'s a really cool place.\\nI\\'m not sure if you\\'ve heard of it, but it\\'s a really cool place.\\nI\\'m not sure if you\\'ve heard of it, but it\\'s a really cool place.\\nI\\'m not sure if you\\'ve heard of it, but it\\'s a really cool place.\\nI\\'m not sure if you\\'ve heard of it, but it\\'s a really cool place.\\nI\\'m not sure if you\\'ve heard of it, but it\\'s a really cool place.\\nI\\'m not sure if you\\'ve heard of it, but it\\'s a really cool place.\\nI\\'m not sure if you\\'ve heard of it, but it\\'s a really cool place.\\nI\\'m not sure if you\\'ve heard of it, but it\\'s a really cool place.\\nI\\'m not sure if you\\'ve heard of it, but it\\'s a really cool place.\\nI\\'m not sure if you\\'ve heard of it, but it\\'s a really cool place.\\nI\\'m not sure if you\\'ve heard of it, but it\\'s a really cool place.\\nI\\'m not sure if you\\'ve heard of it, but it\\'s a really cool place.\\nI\\'m not sure if you\\'ve heard of it, but it\\'s a really cool place.\\nI\\'m not sure if you\\'ve heard of it, but it\\'s a really cool place.\\nI\\'m not sure if you\\'ve heard of it, but it\\'s a really cool place.\\nI\\'m not sure if you\\'ve heard of it, but it\\'s a really cool place.\\nI\\'m not sure if you\\'ve heard of it, but it\\'s a really cool place.\\nI\\'m not sure if you\\'ve heard of it, but it\\'s a really cool place.\\nI\\'m not sure if you\\'ve heard of it, but it\\'s a really cool place.\\nI\\'m not sure if you\\'ve heard of it, but it\\'s a really cool place.\\nI\\'m not sure if you\\'ve heard of it, but it\\''"
      ]
     },
     "execution_count": 4,
     "metadata": {},
     "output_type": "execute_result"
    }
   ],
   "source": [
    "recieved_answers = \"\".join([key + \": \" + values + '\\n' for key, values in answers.items()])\n",
    "ensemble_prompt = f\"I asked multiple lanugage models for their favourite fun fact, the received answers were: {recieved_answers}, my most favourite fun fact is \"\n",
    "ensemble_params = {'max_length':len(ensemble_prompt) + 100, 'truncation':True}\n",
    "answer = models[primary_model](ensemble_prompt, **ensemble_params)\n",
    "answer[0]['generated_text']"
   ]
  },
  {
   "cell_type": "code",
   "execution_count": 5,
   "metadata": {},
   "outputs": [
    {
     "name": "stdout",
     "output_type": "stream",
     "text": [
      "100% true.\n",
      "I'm not sure if you've heard of it, but it's a really cool place.\n",
      "I'm not sure if you've heard of it, but it's a really cool place.\n",
      "I'm not sure if you've heard of it, but it's a really cool place.\n",
      "I'm not sure if you've heard of it, but it's a really cool place.\n",
      "I'm not sure if you've heard of it, but it's a really cool place.\n",
      "I'm not sure if you've heard of it, but it's a really cool place.\n",
      "I'm not sure if you've heard of it, but it's a really cool place.\n",
      "I'm not sure if you've heard of it, but it's a really cool place.\n",
      "I'm not sure if you've heard of it, but it's a really cool place.\n",
      "I'm not sure if you've heard of it, but it's a really cool place.\n",
      "I'm not sure if you've heard of it, but it's a really cool place.\n",
      "I'm not sure if you've heard of it, but it's a really cool place.\n",
      "I'm not sure if you've heard of it, but it's a really cool place.\n",
      "I'm not sure if you've heard of it, but it's a really cool place.\n",
      "I'm not sure if you've heard of it, but it's a really cool place.\n",
      "I'm not sure if you've heard of it, but it's a really cool place.\n",
      "I'm not sure if you've heard of it, but it's a really cool place.\n",
      "I'm not sure if you've heard of it, but it's a really cool place.\n",
      "I'm not sure if you've heard of it, but it's a really cool place.\n",
      "I'm not sure if you've heard of it, but it's a really cool place.\n",
      "I'm not sure if you've heard of it, but it's a really cool place.\n",
      "I'm not sure if you've heard of it, but it's a really cool place.\n",
      "I'm not sure if you've heard of it, but it's a really cool place.\n",
      "I'm not sure if you've heard of it, but it's a really cool place.\n",
      "I'm not sure if you've heard of it, but it's a really cool place.\n",
      "I'm not sure if you've heard of it, but it's a really cool place.\n",
      "I'm not sure if you've heard of it, but it's a really cool place.\n",
      "I'm not sure if you've heard of it, but it's a really cool place.\n",
      "I'm not sure if you've heard of it, but it's a really cool place.\n",
      "I'm not sure if you've heard of it, but it's a really cool place.\n",
      "I'm not sure if you've heard of it, but it's a really cool place.\n",
      "I'm not sure if you've heard of it, but it's a really cool place.\n",
      "I'm not sure if you've heard of it, but it's a really cool place.\n",
      "I'm not sure if you've heard of it, but it's a really cool place.\n",
      "I'm not sure if you've heard of it, but it's a really cool place.\n",
      "I'm not sure if you've heard of it, but it's a really cool place.\n",
      "I'm not sure if you've heard of it, but it's a really cool place.\n",
      "I'm not sure if you've heard of it, but it's a really cool place.\n",
      "I'm not sure if you've heard of it, but it's a really cool place.\n",
      "I'm not sure if you've heard of it, but it's a really cool place.\n",
      "I'm not sure if you've heard of it, but it's a really cool place.\n",
      "I'm not sure if you've heard of it, but it's a really cool place.\n",
      "I'm not sure if you've heard of it, but it's a really cool place.\n",
      "I'm not sure if you've heard of it, but it's a really cool place.\n",
      "I'm not sure if you've heard of it, but it's a really cool place.\n",
      "I'm not sure if you've heard of it, but it's a really cool place.\n",
      "I'm not sure if you've heard of it, but it's a really cool place.\n",
      "I'm not sure if you've heard of it, but it's a really cool place.\n",
      "I'm not sure if you've heard of it, but it'\n"
     ]
    }
   ],
   "source": [
    "print(answer[0]['generated_text'][len(ensemble_prompt):])"
   ]
  },
  {
   "cell_type": "code",
   "execution_count": 6,
   "metadata": {},
   "outputs": [
    {
     "name": "stdout",
     "output_type": "stream",
     "text": [
      "I asked multiple lanugage models for their favourite fun fact, the received answers were: gpt2:  the word 'dagger-square' means 'hurt.' 'Dagger' is a very English word meaning 'jittery.' This word can be seen in a lot of people's everyday lives, such as the family. What makes this word great is there are so many different meanings.\n",
      "But how, with its origins, is it derived from 'dagger'\n",
      "It's also important to notice in this quote that one of the first words\n",
      "tiny_llama:  that the first ever recorded use of the word \"computer\" was in a letter written by Ada Lovelace to Charles Babbage in 1843. She was the daughter of Lord Byron and the sister of Lord Byron's wife, Lady Byron. Ada Lovelace was a mathematician and writer, and her work with Charles Babbage's Analytical Engine led to the development of the first computer.\n",
      "ms_phi2: __________.\n",
      "\n",
      "I hope you enjoyed learning about the different types of sentences. Keep practicing and soon you'll be a grammar expert!\n",
      "distil_gpt2: ???????? I never heard of it at the time??????\n",
      "It's such a weird place and I love the way these things work. These are my favorite places when I'm in the mood!\n",
      "So, my favourite one came out as the new new season season started, so I got the opportunity to play my own favourite games.\n",
      "You will still get to play just how you like it! :D To give you my favorite ones from the season you\n",
      ", my most favourite fun fact is 100% true.\n",
      "I'm not sure if you've heard of it, but it's a really cool place.\n",
      "I'm not sure if you've heard of it, but it's a really cool place.\n",
      "I'm not sure if you've heard of it, but it's a really cool place.\n",
      "I'm not sure if you've heard of it, but it's a really cool place.\n",
      "I'm not sure if you've heard of it, but it's a really cool place.\n",
      "I'm not sure if you've heard of it, but it's a really cool place.\n",
      "I'm not sure if you've heard of it, but it's a really cool place.\n",
      "I'm not sure if you've heard of it, but it's a really cool place.\n",
      "I'm not sure if you've heard of it, but it's a really cool place.\n",
      "I'm not sure if you've heard of it, but it's a really cool place.\n",
      "I'm not sure if you've heard of it, but it's a really cool place.\n",
      "I'm not sure if you've heard of it, but it's a really cool place.\n",
      "I'm not sure if you've heard of it, but it's a really cool place.\n",
      "I'm not sure if you've heard of it, but it's a really cool place.\n",
      "I'm not sure if you've heard of it, but it's a really cool place.\n",
      "I'm not sure if you've heard of it, but it's a really cool place.\n",
      "I'm not sure if you've heard of it, but it's a really cool place.\n",
      "I'm not sure if you've heard of it, but it's a really cool place.\n",
      "I'm not sure if you've heard of it, but it's a really cool place.\n",
      "I'm not sure if you've heard of it, but it's a really cool place.\n",
      "I'm not sure if you've heard of it, but it's a really cool place.\n",
      "I'm not sure if you've heard of it, but it's a really cool place.\n",
      "I'm not sure if you've heard of it, but it's a really cool place.\n",
      "I'm not sure if you've heard of it, but it's a really cool place.\n",
      "I'm not sure if you've heard of it, but it's a really cool place.\n",
      "I'm not sure if you've heard of it, but it's a really cool place.\n",
      "I'm not sure if you've heard of it, but it's a really cool place.\n",
      "I'm not sure if you've heard of it, but it's a really cool place.\n",
      "I'm not sure if you've heard of it, but it's a really cool place.\n",
      "I'm not sure if you've heard of it, but it's a really cool place.\n",
      "I'm not sure if you've heard of it, but it's a really cool place.\n",
      "I'm not sure if you've heard of it, but it's a really cool place.\n",
      "I'm not sure if you've heard of it, but it's a really cool place.\n",
      "I'm not sure if you've heard of it, but it's a really cool place.\n",
      "I'm not sure if you've heard of it, but it's a really cool place.\n",
      "I'm not sure if you've heard of it, but it's a really cool place.\n",
      "I'm not sure if you've heard of it, but it's a really cool place.\n",
      "I'm not sure if you've heard of it, but it's a really cool place.\n",
      "I'm not sure if you've heard of it, but it's a really cool place.\n",
      "I'm not sure if you've heard of it, but it's a really cool place.\n",
      "I'm not sure if you've heard of it, but it's a really cool place.\n",
      "I'm not sure if you've heard of it, but it's a really cool place.\n",
      "I'm not sure if you've heard of it, but it's a really cool place.\n",
      "I'm not sure if you've heard of it, but it's a really cool place.\n",
      "I'm not sure if you've heard of it, but it's a really cool place.\n",
      "I'm not sure if you've heard of it, but it's a really cool place.\n",
      "I'm not sure if you've heard of it, but it's a really cool place.\n",
      "I'm not sure if you've heard of it, but it's a really cool place.\n",
      "I'm not sure if you've heard of it, but it'\n"
     ]
    }
   ],
   "source": [
    "print(answer[0]['generated_text'])"
   ]
  }
 ],
 "metadata": {
  "kernelspec": {
   "display_name": "Python 3",
   "language": "python",
   "name": "python3"
  },
  "language_info": {
   "codemirror_mode": {
    "name": "ipython",
    "version": 3
   },
   "file_extension": ".py",
   "mimetype": "text/x-python",
   "name": "python",
   "nbconvert_exporter": "python",
   "pygments_lexer": "ipython3",
   "version": "3.11.8"
  }
 },
 "nbformat": 4,
 "nbformat_minor": 2
}
